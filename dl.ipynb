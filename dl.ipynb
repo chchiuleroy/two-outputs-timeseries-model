{
 "cells": [
  {
   "cell_type": "code",
   "execution_count": 10,
   "id": "023a740f-adb6-403b-97e5-39730eafef70",
   "metadata": {},
   "outputs": [],
   "source": [
    "import pandas as pd, numpy as np, random, tensorflow as tf, keras_tuner\n",
    "from keras.models import Sequential, Model\n",
    "from keras.layers import Input, Dense, Dropout, BatchNormalization, Activation, Flatten\n",
    "from keras.layers.convolutional import Conv1D, AveragePooling1D, MaxPooling1D\n",
    "from keras.optimizers import Adam"
   ]
  },
  {
   "cell_type": "code",
   "execution_count": 4,
   "id": "c0751c9b-e783-4e57-b762-7a9fdc6c579f",
   "metadata": {},
   "outputs": [],
   "source": [
    "def data2series_trans(x):\n",
    "    length = np.prod(x.shape)\n",
    "    x_new = x.to_numpy().reshape(length, 1)\n",
    "    y_0 = (x_new/10).astype(int)\n",
    "    y_1 = (x_new%10).astype(int)\n",
    "    return x_new/38, y_0, y_1\n",
    "\n",
    "def prepare2data(x_new, y_0, y_1, lag):\n",
    "    n = int(x_new.shape[0]/7) - lag\n",
    "    x = [x_new[i*7:(i+lag)*7] for i in range(n)]\n",
    "    y0 = [y_0[(i+lag)*7:(i+1+lag)*7] for i in range(n)]\n",
    "    y1 = [y_1[(i+lag)*7:(i+1+lag)*7] for i in range(n)]\n",
    "    x_need = x_new[n*7:x_new.shape[0]][np.newaxis, :]\n",
    "    return np.array(x), np.array(y0), np.array(y1), x_need"
   ]
  },
  {
   "cell_type": "code",
   "execution_count": 13,
   "id": "517c8ae5-e017-46a7-8030-ae182bde726e",
   "metadata": {},
   "outputs": [],
   "source": [
    "def hyper_para(model, X_tra, y0_tra, y1_tra, X_val, y0_val, y1_val, X_test, y0_test, y1_test, X_need):\n",
    "            \n",
    "    tuner = keras_tuner.Hyperband(hypermodel = model, objective = \"val_loss\", max_epochs = 20, factor = 3,\n",
    "                                  overwrite = True, directory = \"my_dir\", project_name = \"testing1234\")\n",
    "    tuner.search_space_summary() \n",
    "    stop_early = tf.keras.callbacks.EarlyStopping(monitor = \"val_loss\", patience = 10)\n",
    "    tuner.search(X_tra, [y0_tra, y1_tra], epochs = 100, batch_size = 64, validation_data = (X_val, [y0_val, y1_val]), \n",
    "                 callbacks = [stop_early])\n",
    "    best_hp = tuner.get_best_hyperparameters()[0]\n",
    "            \n",
    "    h_model = tuner.hypermodel.build(best_hp)\n",
    "    h_model.summary()\n",
    "    history = h_model.fit(X_tra, [y0_tra, y1_tra], epochs = 100, batch_size = 64, validation_data = (X_val, [y0_val, y1_val]), \n",
    "                          callbacks = [stop_early])\n",
    "            \n",
    "    val_acc_per_epoch = history.history[\"val_loss\"]\n",
    "    best_epoch = val_acc_per_epoch.index(min(val_acc_per_epoch)) + 1\n",
    "    model = tuner.hypermodel.build(best_hp)\n",
    "    h_model.fit(X_tra, [y0_tra, y1_tra], epochs = best_epoch, batch_size = 32, validation_data = (X_val, [y0_val, y1_val]), \n",
    "                callbacks = [stop_early])\n",
    "    h_eval_dict = h_model.evaluate(X_test, [y0_test, y1_test], return_dict = True) \n",
    "    y_pred_hat = h_model.predict(X_need)\n",
    "    return h_eval_dict, y_pred_hat"
   ]
  },
  {
   "cell_type": "code",
   "execution_count": 11,
   "id": "e945443b-0928-47a1-ae74-6c20662174d4",
   "metadata": {},
   "outputs": [],
   "source": [
    "def nn_model(lag, seed):\n",
    "    random.seed(seed)\n",
    "    np.random.seed(seed)\n",
    "    tf.random.set_seed(seed)\n",
    "    tf.keras.utils.set_random_seed(seed)\n",
    "    tf.config.experimental.enable_op_determinism()\n",
    "    \n",
    "    x_new, y_0, y_1 = data2series_trans(power.iloc[:, 1:])\n",
    "    X, y0, y1, X_need = prepare2data(x_new, y_0, y_1, lag)\n",
    "    \n",
    "    m = int(X.shape[0]*0.9)\n",
    "    \n",
    "    X_train = X[0:m]\n",
    "    y0_train = y0[0:m]\n",
    "    y1_train = y1[0:m]\n",
    "    \n",
    "    X_test = X[m:X.shape[0]]\n",
    "    y0_test = y0[m:X.shape[0]]\n",
    "    y1_test = y1[m:X.shape[0]]\n",
    "    \n",
    "    n = int(X_train.shape[0]*0.8)\n",
    "    \n",
    "    X_val = X_train[n:m]\n",
    "    y0_val = y0_train[n:m]\n",
    "    y1_val = y1_train[n:m]\n",
    "    \n",
    "    X_tra = X_train[0:n]\n",
    "    y0_tra = y0_train[0:n]\n",
    "    y1_tra = y1_train[0:n]\n",
    "    \n",
    "    n_steps_in = X_tra.shape[1]\n",
    "    n_features = 1\n",
    "    label_dim = 7\n",
    "\n",
    "    def model_set(hp):\n",
    "        inp = Input((n_steps_in, n_features))\n",
    "        s = Conv1D(filters = hp.Int(\"filters\", min_value = 900, max_value = 1500, step = 20), kernel_size = 7)(inp)\n",
    "        s = Activation(\"relu\")(s)\n",
    "        s = BatchNormalization()(s)\n",
    "        s = MaxPooling1D(pool_size = 7)(s)\n",
    "        s = Dropout(rate = hp.Float(\"rate\", min_value = 0.1, max_value = 0.5))(s)\n",
    "        s = Conv1D(filters = hp.Int(\"filters\", min_value = 300, max_value = 900, step = 20), kernel_size = 7)(s)\n",
    "        s = Activation(\"relu\")(s)\n",
    "        s = BatchNormalization()(s)\n",
    "        s = MaxPooling1D(pool_size = 7)(s)\n",
    "        s = Dropout(rate = hp.Float(\"rate\", min_value = 0.1, max_value = 0.5))(s)\n",
    "        s = Flatten()(s)\n",
    "        s = Dense(units = 30, activation = \"relu\")(s)\n",
    "        s = BatchNormalization()(s)\n",
    "        s = Dropout(rate = hp.Float(\"rate\", min_value = 0.1, max_value = 0.5))(s)\n",
    "        out1 = Dense(label_dim)(s)\n",
    "        out2 = Dense(label_dim)(s)\n",
    "        model = Model(inp, [out1, out2])\n",
    "        adam = Adam(learning_rate = 0.0001)\n",
    "        model.compile(loss = \"mean_squared_logarithmic_error\", optimizer = adam)\n",
    "        return model\n",
    "\n",
    "    results = hyper_para(model_set, X_tra, y0_tra, y1_tra, X_val, y0_val, y1_val, X_test, y0_test, y1_test, X_need)\n",
    "    \n",
    "    return results"
   ]
  },
  {
   "cell_type": "code",
   "execution_count": 8,
   "id": "248eeda2-8d33-41a6-b57f-362b286f2b95",
   "metadata": {},
   "outputs": [],
   "source": [
    "power = \"insert your data\""
   ]
  },
  {
   "cell_type": "code",
   "execution_count": 14,
   "id": "b77a0ea8-dc79-4f9f-8e53-492bf0a4edb7",
   "metadata": {},
   "outputs": [
    {
     "name": "stdout",
     "output_type": "stream",
     "text": [
      "Trial 30 Complete [00h 00m 11s]\n",
      "val_loss: 24.2031192779541\n",
      "\n",
      "Best val_loss So Far: 23.358152389526367\n",
      "Total elapsed time: 00h 02m 06s\n",
      "INFO:tensorflow:Oracle triggered exit\n",
      "Model: \"model_1\"\n",
      "__________________________________________________________________________________________________\n",
      " Layer (type)                   Output Shape         Param #     Connected to                     \n",
      "==================================================================================================\n",
      " input_2 (InputLayer)           [(None, 196, 1)]     0           []                               \n",
      "                                                                                                  \n",
      " conv1d_2 (Conv1D)              (None, 190, 920)     7360        ['input_2[0][0]']                \n",
      "                                                                                                  \n",
      " activation_2 (Activation)      (None, 190, 920)     0           ['conv1d_2[0][0]']               \n",
      "                                                                                                  \n",
      " batch_normalization_3 (BatchNo  (None, 190, 920)    3680        ['activation_2[0][0]']           \n",
      " rmalization)                                                                                     \n",
      "                                                                                                  \n",
      " max_pooling1d_2 (MaxPooling1D)  (None, 27, 920)     0           ['batch_normalization_3[0][0]']  \n",
      "                                                                                                  \n",
      " dropout_3 (Dropout)            (None, 27, 920)      0           ['max_pooling1d_2[0][0]']        \n",
      "                                                                                                  \n",
      " conv1d_3 (Conv1D)              (None, 21, 920)      5925720     ['dropout_3[0][0]']              \n",
      "                                                                                                  \n",
      " activation_3 (Activation)      (None, 21, 920)      0           ['conv1d_3[0][0]']               \n",
      "                                                                                                  \n",
      " batch_normalization_4 (BatchNo  (None, 21, 920)     3680        ['activation_3[0][0]']           \n",
      " rmalization)                                                                                     \n",
      "                                                                                                  \n",
      " max_pooling1d_3 (MaxPooling1D)  (None, 3, 920)      0           ['batch_normalization_4[0][0]']  \n",
      "                                                                                                  \n",
      " dropout_4 (Dropout)            (None, 3, 920)       0           ['max_pooling1d_3[0][0]']        \n",
      "                                                                                                  \n",
      " flatten_1 (Flatten)            (None, 2760)         0           ['dropout_4[0][0]']              \n",
      "                                                                                                  \n",
      " dense_3 (Dense)                (None, 30)           82830       ['flatten_1[0][0]']              \n",
      "                                                                                                  \n",
      " batch_normalization_5 (BatchNo  (None, 30)          120         ['dense_3[0][0]']                \n",
      " rmalization)                                                                                     \n",
      "                                                                                                  \n",
      " dropout_5 (Dropout)            (None, 30)           0           ['batch_normalization_5[0][0]']  \n",
      "                                                                                                  \n",
      " dense_4 (Dense)                (None, 7)            217         ['dropout_5[0][0]']              \n",
      "                                                                                                  \n",
      " dense_5 (Dense)                (None, 7)            217         ['dropout_5[0][0]']              \n",
      "                                                                                                  \n",
      "==================================================================================================\n",
      "Total params: 6,023,824\n",
      "Trainable params: 6,020,084\n",
      "Non-trainable params: 3,740\n",
      "__________________________________________________________________________________________________\n",
      "Epoch 1/100\n"
     ]
    },
    {
     "name": "stderr",
     "output_type": "stream",
     "text": [
      "2023-07-25 14:01:34.829041: I tensorflow/core/common_runtime/executor.cc:1197] [/device:CPU:0] (DEBUG INFO) Executor start aborting (this does not indicate an error and you can ignore this message): INVALID_ARGUMENT: You must feed a value for placeholder tensor 'Placeholder/_12' with dtype int64 and shape [1476,7,1]\n",
      "\t [[{{node Placeholder/_12}}]]\n",
      "2023-07-25 14:01:34.829285: I tensorflow/core/common_runtime/executor.cc:1197] [/device:CPU:0] (DEBUG INFO) Executor start aborting (this does not indicate an error and you can ignore this message): INVALID_ARGUMENT: You must feed a value for placeholder tensor 'Placeholder/_12' with dtype int64 and shape [1476,7,1]\n",
      "\t [[{{node Placeholder/_12}}]]\n"
     ]
    },
    {
     "name": "stdout",
     "output_type": "stream",
     "text": [
      "24/24 [==============================] - 1s 19ms/step - loss: 29.5866 - dense_4_loss: 27.5184 - dense_5_loss: 2.0682 - val_loss: 28.5367 - val_dense_4_loss: 26.4393 - val_dense_5_loss: 2.0975\n",
      "Epoch 2/100\n",
      " 1/24 [>.............................] - ETA: 0s - loss: 28.0160 - dense_4_loss: 25.9837 - dense_5_loss: 2.0323"
     ]
    },
    {
     "name": "stderr",
     "output_type": "stream",
     "text": [
      "2023-07-25 14:01:35.720247: I tensorflow/core/common_runtime/executor.cc:1197] [/device:CPU:0] (DEBUG INFO) Executor start aborting (this does not indicate an error and you can ignore this message): INVALID_ARGUMENT: You must feed a value for placeholder tensor 'Placeholder/_12' with dtype int64 and shape [369,7,1]\n",
      "\t [[{{node Placeholder/_12}}]]\n",
      "2023-07-25 14:01:35.720449: I tensorflow/core/common_runtime/executor.cc:1197] [/device:CPU:0] (DEBUG INFO) Executor start aborting (this does not indicate an error and you can ignore this message): INVALID_ARGUMENT: You must feed a value for placeholder tensor 'Placeholder/_12' with dtype int64 and shape [369,7,1]\n",
      "\t [[{{node Placeholder/_12}}]]\n"
     ]
    },
    {
     "name": "stdout",
     "output_type": "stream",
     "text": [
      "24/24 [==============================] - 0s 13ms/step - loss: 27.4082 - dense_4_loss: 25.3650 - dense_5_loss: 2.0432 - val_loss: 24.8684 - val_dense_4_loss: 22.4918 - val_dense_5_loss: 2.3766\n",
      "Epoch 3/100\n",
      "24/24 [==============================] - 0s 13ms/step - loss: 26.4642 - dense_4_loss: 24.4310 - dense_5_loss: 2.0332 - val_loss: 23.7949 - val_dense_4_loss: 21.7748 - val_dense_5_loss: 2.0201\n",
      "Epoch 4/100\n",
      "24/24 [==============================] - 0s 13ms/step - loss: 26.1132 - dense_4_loss: 24.1020 - dense_5_loss: 2.0113 - val_loss: 23.4541 - val_dense_4_loss: 21.8890 - val_dense_5_loss: 1.5651\n",
      "Epoch 5/100\n",
      "24/24 [==============================] - 0s 13ms/step - loss: 25.9130 - dense_4_loss: 23.9147 - dense_5_loss: 1.9982 - val_loss: 23.6045 - val_dense_4_loss: 22.1234 - val_dense_5_loss: 1.4811\n",
      "Epoch 6/100\n",
      "24/24 [==============================] - 0s 12ms/step - loss: 25.7420 - dense_4_loss: 23.7611 - dense_5_loss: 1.9809 - val_loss: 24.0788 - val_dense_4_loss: 22.4545 - val_dense_5_loss: 1.6243\n",
      "Epoch 7/100\n",
      "24/24 [==============================] - 0s 12ms/step - loss: 25.5941 - dense_4_loss: 23.6350 - dense_5_loss: 1.9591 - val_loss: 24.0939 - val_dense_4_loss: 22.5658 - val_dense_5_loss: 1.5281\n",
      "Epoch 8/100\n",
      "24/24 [==============================] - 0s 13ms/step - loss: 25.4632 - dense_4_loss: 23.5238 - dense_5_loss: 1.9394 - val_loss: 24.3086 - val_dense_4_loss: 22.6940 - val_dense_5_loss: 1.6147\n",
      "Epoch 9/100\n",
      "24/24 [==============================] - 0s 13ms/step - loss: 25.3325 - dense_4_loss: 23.4247 - dense_5_loss: 1.9078 - val_loss: 24.3366 - val_dense_4_loss: 22.7073 - val_dense_5_loss: 1.6293\n",
      "Epoch 10/100\n",
      "24/24 [==============================] - 0s 13ms/step - loss: 25.2558 - dense_4_loss: 23.3586 - dense_5_loss: 1.8972 - val_loss: 24.4247 - val_dense_4_loss: 22.7425 - val_dense_5_loss: 1.6822\n",
      "Epoch 11/100\n",
      "24/24 [==============================] - 0s 13ms/step - loss: 25.1596 - dense_4_loss: 23.2863 - dense_5_loss: 1.8733 - val_loss: 24.5803 - val_dense_4_loss: 22.8520 - val_dense_5_loss: 1.7283\n",
      "Epoch 12/100\n",
      "24/24 [==============================] - 0s 13ms/step - loss: 25.0590 - dense_4_loss: 23.1999 - dense_5_loss: 1.8590 - val_loss: 24.4921 - val_dense_4_loss: 22.7945 - val_dense_5_loss: 1.6975\n",
      "Epoch 13/100\n",
      "24/24 [==============================] - 0s 13ms/step - loss: 24.9973 - dense_4_loss: 23.1465 - dense_5_loss: 1.8508 - val_loss: 24.3057 - val_dense_4_loss: 22.6135 - val_dense_5_loss: 1.6922\n",
      "Epoch 14/100\n",
      "24/24 [==============================] - 0s 13ms/step - loss: 24.9346 - dense_4_loss: 23.1053 - dense_5_loss: 1.8293 - val_loss: 24.2914 - val_dense_4_loss: 22.5840 - val_dense_5_loss: 1.7074\n",
      "Epoch 1/4\n",
      "14/47 [=======>......................] - ETA: 0s - loss: 25.0717 - dense_4_loss: 23.2844 - dense_5_loss: 1.7872"
     ]
    },
    {
     "name": "stderr",
     "output_type": "stream",
     "text": [
      "2023-07-25 14:01:39.964378: I tensorflow/core/common_runtime/executor.cc:1197] [/device:CPU:0] (DEBUG INFO) Executor start aborting (this does not indicate an error and you can ignore this message): INVALID_ARGUMENT: You must feed a value for placeholder tensor 'Placeholder/_10' with dtype float and shape [1476,196,1]\n",
      "\t [[{{node Placeholder/_10}}]]\n",
      "2023-07-25 14:01:39.964586: I tensorflow/core/common_runtime/executor.cc:1197] [/device:CPU:0] (DEBUG INFO) Executor start aborting (this does not indicate an error and you can ignore this message): INVALID_ARGUMENT: You must feed a value for placeholder tensor 'Placeholder/_11' with dtype int64 and shape [1476,7,1]\n",
      "\t [[{{node Placeholder/_11}}]]\n"
     ]
    },
    {
     "name": "stdout",
     "output_type": "stream",
     "text": [
      "47/47 [==============================] - 0s 10ms/step - loss: 24.8970 - dense_4_loss: 23.0893 - dense_5_loss: 1.8078 - val_loss: 24.0559 - val_dense_4_loss: 22.4201 - val_dense_5_loss: 1.6358\n",
      "Epoch 2/4\n",
      "13/47 [=======>......................] - ETA: 0s - loss: 25.1207 - dense_4_loss: 23.3218 - dense_5_loss: 1.7989"
     ]
    },
    {
     "name": "stderr",
     "output_type": "stream",
     "text": [
      "2023-07-25 14:01:40.414013: I tensorflow/core/common_runtime/executor.cc:1197] [/device:CPU:0] (DEBUG INFO) Executor start aborting (this does not indicate an error and you can ignore this message): INVALID_ARGUMENT: You must feed a value for placeholder tensor 'Placeholder/_11' with dtype int64 and shape [369,7,1]\n",
      "\t [[{{node Placeholder/_11}}]]\n",
      "2023-07-25 14:01:40.414228: I tensorflow/core/common_runtime/executor.cc:1197] [/device:CPU:0] (DEBUG INFO) Executor start aborting (this does not indicate an error and you can ignore this message): INVALID_ARGUMENT: You must feed a value for placeholder tensor 'Placeholder/_12' with dtype int64 and shape [369,7,1]\n",
      "\t [[{{node Placeholder/_12}}]]\n"
     ]
    },
    {
     "name": "stdout",
     "output_type": "stream",
     "text": [
      "47/47 [==============================] - 0s 9ms/step - loss: 24.7870 - dense_4_loss: 23.0063 - dense_5_loss: 1.7807 - val_loss: 24.0077 - val_dense_4_loss: 22.4157 - val_dense_5_loss: 1.5920\n",
      "Epoch 3/4\n",
      "47/47 [==============================] - 0s 9ms/step - loss: 24.6875 - dense_4_loss: 22.9294 - dense_5_loss: 1.7581 - val_loss: 23.8482 - val_dense_4_loss: 22.2314 - val_dense_5_loss: 1.6169\n",
      "Epoch 4/4\n",
      "47/47 [==============================] - 0s 10ms/step - loss: 24.5436 - dense_4_loss: 22.8062 - dense_5_loss: 1.7374 - val_loss: 23.8932 - val_dense_4_loss: 22.3404 - val_dense_5_loss: 1.5527\n",
      "7/7 [==============================] - 0s 5ms/step - loss: 23.8368 - dense_4_loss: 22.2679 - dense_5_loss: 1.5689\n",
      "1/1 [==============================] - 0s 125ms/step\n"
     ]
    },
    {
     "name": "stderr",
     "output_type": "stream",
     "text": [
      "2023-07-25 14:01:41.849996: I tensorflow/core/common_runtime/executor.cc:1197] [/device:CPU:0] (DEBUG INFO) Executor start aborting (this does not indicate an error and you can ignore this message): INVALID_ARGUMENT: You must feed a value for placeholder tensor 'Placeholder/_12' with dtype int64 and shape [206,7,1]\n",
      "\t [[{{node Placeholder/_12}}]]\n",
      "2023-07-25 14:01:41.850277: I tensorflow/core/common_runtime/executor.cc:1197] [/device:CPU:0] (DEBUG INFO) Executor start aborting (this does not indicate an error and you can ignore this message): INVALID_ARGUMENT: You must feed a value for placeholder tensor 'Placeholder/_12' with dtype int64 and shape [206,7,1]\n",
      "\t [[{{node Placeholder/_12}}]]\n",
      "2023-07-25 14:01:41.922509: I tensorflow/core/common_runtime/executor.cc:1197] [/device:CPU:0] (DEBUG INFO) Executor start aborting (this does not indicate an error and you can ignore this message): INVALID_ARGUMENT: You must feed a value for placeholder tensor 'Placeholder/_10' with dtype float and shape [1,196,1]\n",
      "\t [[{{node Placeholder/_10}}]]\n",
      "2023-07-25 14:01:41.922691: I tensorflow/core/common_runtime/executor.cc:1197] [/device:CPU:0] (DEBUG INFO) Executor start aborting (this does not indicate an error and you can ignore this message): INVALID_ARGUMENT: You must feed a value for placeholder tensor 'Placeholder/_10' with dtype float and shape [1,196,1]\n",
      "\t [[{{node Placeholder/_10}}]]\n"
     ]
    }
   ],
   "source": [
    "results = nn_model(28, 1111)"
   ]
  },
  {
   "cell_type": "code",
   "execution_count": 15,
   "id": "c9bb0e85-8526-4962-beb1-bbd9faafb79e",
   "metadata": {},
   "outputs": [
    {
     "name": "stdout",
     "output_type": "stream",
     "text": [
      "({'loss': 23.8367862701416, 'dense_4_loss': 22.26786994934082, 'dense_5_loss': 1.5689131021499634}, [array([[ 0.7279916,  9.381762 , -5.0315046, -1.6490586,  0.9666617,\n",
      "        -3.3279016, -6.2033725]], dtype=float32), array([[ 0.81983334,  3.0957782 ,  3.863658  , -3.4761794 ,  1.8033481 ,\n",
      "         2.2087786 , -3.8284883 ]], dtype=float32)])\n"
     ]
    }
   ],
   "source": [
    "print(results)"
   ]
  },
  {
   "cell_type": "code",
   "execution_count": null,
   "id": "f62792d6-18a8-4b1e-9495-98497b4383c1",
   "metadata": {},
   "outputs": [],
   "source": []
  }
 ],
 "metadata": {
  "kernelspec": {
   "display_name": "Python 3 (ipykernel)",
   "language": "python",
   "name": "python3"
  },
  "language_info": {
   "codemirror_mode": {
    "name": "ipython",
    "version": 3
   },
   "file_extension": ".py",
   "mimetype": "text/x-python",
   "name": "python",
   "nbconvert_exporter": "python",
   "pygments_lexer": "ipython3",
   "version": "3.9.16"
  }
 },
 "nbformat": 4,
 "nbformat_minor": 5
}
